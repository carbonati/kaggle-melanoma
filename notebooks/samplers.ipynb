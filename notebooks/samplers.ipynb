{
 "cells": [
  {
   "cell_type": "code",
   "execution_count": 5,
   "metadata": {},
   "outputs": [],
   "source": [
    "import os\n",
    "import pandas as pd\n",
    "import numpy as np\n",
    "import matplotlib as mpl\n",
    "import matplotlib.pyplot as plt\n",
    "import seaborn as sns\n",
    "import torch\n",
    "\n",
    "from sklearn.metrics import roc_auc_score, log_loss, roc_curve, auc\n",
    "\n",
    "import sys\n",
    "sys.path.append('../')\n",
    "\n",
    "TEXT_COLOR = 'w'\n",
    "FACECOLOR = '#373d4b'\n",
    "mpl.rcParams['axes.facecolor'] = '#373d4b'\n",
    "mpl.rcParams['text.color'] = TEXT_COLOR\n",
    "mpl.rcParams['axes.labelcolor'] = TEXT_COLOR\n",
    "mpl.rcParams['xtick.color'] = TEXT_COLOR\n",
    "mpl.rcParams['ytick.color'] = TEXT_COLOR\n",
    "\n",
    "from melanoma.core.losses import BCELabelSmoothingLoss\n",
    "from melanoma.data.dataset import MelanomaDataset\n",
    "from melanoma.data.augmentation import MelanomaAugmentor\n",
    "from melanoma.utils.data_utils import load_data"
   ]
  },
  {
   "cell_type": "code",
   "execution_count": 19,
   "metadata": {},
   "outputs": [],
   "source": [
    "import os\n",
    "import skimage.io\n",
    "import numpy as np\n",
    "import torch\n",
    "from copy import deepcopy\n",
    "from collections import defaultdict\n",
    "from torch.utils.data import Dataset\n",
    "\n",
    "from utils import data_utils\n",
    "\n",
    "\n",
    "class MelanomaDataset(Dataset):\n",
    "    \"\"\"Melanoma dataset.\"\"\"\n",
    "    def __init__(self,\n",
    "                 root,\n",
    "                 df,\n",
    "                 target_col='target',\n",
    "                 img_format='jpg',\n",
    "                 augmentor=None,\n",
    "                 norm_cols=None,\n",
    "                 fp_16=False,\n",
    "                 seed=None):\n",
    "        self.root = root\n",
    "        self.df = df\n",
    "        self.augmentor = augmentor\n",
    "        self.target_col = target_col\n",
    "        self.img_format = img_format\n",
    "        self.norm_cols = norm_cols\n",
    "        self._seed = seed\n",
    "        self._fp_16 = fp_16\n",
    "        self._dtype = 'float16' if self._fp_16 else 'float32'\n",
    "        self._dtype_torch = torch.float16 if self._fp_16 else torch.float32\n",
    "        self._random_state = np.random.RandomState(self._seed)\n",
    "        self.image_ids = self.df['image_name'].values.tolist()\n",
    "        if self.target_col is not None:\n",
    "            self.labels = df[self.target_col].values.tolist()\n",
    "            self.training = True\n",
    "        else:\n",
    "            self.labels = None\n",
    "            self.training = False\n",
    "\n",
    "        self.files = None\n",
    "        self.image_id_to_filepath = None\n",
    "\n",
    "        self._set_image_id_to_filepaths()\n",
    "        self._prepare_args()\n",
    "\n",
    "    def __len__(self):\n",
    "        return len(self.image_ids)\n",
    "\n",
    "    def __getitem__(self, index):\n",
    "        return self.labels[index]\n",
    "\n",
    "    def _prepare_args(self):\n",
    "        pass\n",
    "\n",
    "    def _set_image_id_to_filepaths(self):\n",
    "        self.image_id_to_filepath = defaultdict(list)\n",
    "        for image_id in self.image_ids:\n",
    "            self.image_id_to_filepath[image_id] = os.path.join(self.root, f'{image_id}.{self.img_format}')\n",
    "\n",
    "    def _set_files(self):\n",
    "        self.files = [fp for fps in self.image_id_to_filepaths.values() for fp in fps]\n",
    "\n",
    "    def preprocess(self, img, **kwargs):\n",
    "        img = np.asarray(img) / 255.\n",
    "        if self.augmentor is None:\n",
    "            return img\n",
    "        else:\n",
    "            return self.augmentor(img, **kwargs)\n",
    "\n",
    "    def get_labels(self):\n",
    "        return self.labels\n",
    "\n",
    "    def get_image_ids(self):\n",
    "        return self.image_ids\n",
    "\n",
    "    def reset_state(self, seed=None):\n",
    "        \"\"\"Reset dataset random state for bagging + mutltiprocessing\"\"\"\n",
    "        self._random_state = np.random.RandomState(seed)"
   ]
  },
  {
   "cell_type": "code",
   "execution_count": 10,
   "metadata": {},
   "outputs": [],
   "source": [
    "from melanoma.data.dataset import MelanomaDataset"
   ]
  },
  {
   "cell_type": "code",
   "execution_count": 20,
   "metadata": {},
   "outputs": [
    {
     "name": "stdout",
     "output_type": "stream",
     "text": [
      "Adding external data from ../data/external_data/isic_2019.csv\n"
     ]
    }
   ],
   "source": [
    "image_map={\n",
    "    '2020':'../data/ISIC_2020/224x224_jpg_100_4/train/',\n",
    "    '2019': '../data/ISIC_2019/224x224_jpg_100_4/train/'\n",
    "}\n",
    "df_train = load_data('../data/train.csv', \n",
    "                     duplicate_path='../data/sus/2020_Challenge_duplicates.csv', \n",
    "                     external_filepaths=['../data/external_data/isic_2019.csv'],\n",
    "                     image_map=image_map\n",
    "                    )\n",
    "df_train['image_dir'] = '../data/ISIC_2020/224x224_jpg_100_4/train/'\n",
    "ds = MelanomaDataset('../data/ISIC_2020/224x224_jpg_100_4/train/', df_train)"
   ]
  },
  {
   "cell_type": "code",
   "execution_count": 21,
   "metadata": {},
   "outputs": [],
   "source": [
    "from torch.utils.data import DataLoader\n",
    "from melanoma.data.samplers import BatchStratifiedSampler,ImbalancedSampler\n",
    "from tqdm import tqdm"
   ]
  },
  {
   "cell_type": "markdown",
   "metadata": {},
   "source": [
    "# None"
   ]
  },
  {
   "cell_type": "code",
   "execution_count": 22,
   "metadata": {},
   "outputs": [
    {
     "name": "stderr",
     "output_type": "stream",
     "text": [
      "100%|██████████| 906/906 [00:00<00:00, 30099.80it/s]\n"
     ]
    }
   ],
   "source": [
    "batch_size = 64\n",
    "dl = DataLoader(ds, batch_size=batch_size, shuffle=True, drop_last=True)\n",
    "\n",
    "targets = []\n",
    "for y in tqdm(dl):\n",
    "    targets.append(y.numpy())\n",
    "    \n",
    "props = [sum(targets[i])/len(targets[i]) for i in range(len(targets))]"
   ]
  },
  {
   "cell_type": "code",
   "execution_count": 10,
   "metadata": {},
   "outputs": [
    {
     "name": "stdout",
     "output_type": "stream",
     "text": [
      "mean   : 0.0879\n",
      "std    : 0.0335\n",
      "median : 0.0781\n"
     ]
    },
    {
     "data": {
      "text/plain": [
       "(array([ 11.,  45., 222., 184., 142., 223.,  34.,  39.,   4.,   2.]),\n",
       " array([0.      , 0.021875, 0.04375 , 0.065625, 0.0875  , 0.109375,\n",
       "        0.13125 , 0.153125, 0.175   , 0.196875, 0.21875 ]),\n",
       " <BarContainer object of 10 artists>)"
      ]
     },
     "execution_count": 10,
     "metadata": {},
     "output_type": "execute_result"
    },
    {
     "data": {
      "image/png": "[encoded data removed]",
      "text/plain": [
       "<Figure size 432x288 with 1 Axes>"
      ]
     },
     "metadata": {
      "needs_background": "dark"
     },
     "output_type": "display_data"
    }
   ],
   "source": [
    "print(f'mean   : {np.mean(props):.4f}')\n",
    "print(f'std    : {np.std(props):.4f}')\n",
    "print(f'median : {np.median(props):.4f}')\n",
    "plt.hist(props)"
   ]
  },
  {
   "cell_type": "markdown",
   "metadata": {},
   "source": [
    "# Batch stratified"
   ]
  },
  {
   "cell_type": "code",
   "execution_count": 2,
   "metadata": {},
   "outputs": [],
   "source": [
    "from torch.utils.data import Sampler"
   ]
  },
  {
   "cell_type": "code",
   "execution_count": 33,
   "metadata": {},
   "outputs": [],
   "source": [
    "from sklearn.model_selection import train_test_split, KFold, StratifiedKFold\n",
    "\n",
    "def stratify_batches(indices,                                                                                                                                                                              \n",
    "                     labels,                                                                                                                                                                               \n",
    "                     batch_size,                                                                                                                                                                           \n",
    "                     drop_last=False,                                                                                                                                                                      \n",
    "                     random_state=6969):                                                                                                                                                                   \n",
    "    \"\"\"Returns a list of indices stratified by `labels` where each stratification is                                                                                                                       \n",
    "    of size `bathc_size`                                                                                                                                                                                   \n",
    "    \"\"\"                                                                                                                                                                                                    \n",
    "    strat_indices = []                                                                                                                                                                                     \n",
    "                                                                                                                                                                                                           \n",
    "    num_batches = int(np.ceil(len(indices) / batch_size))                                                                                                                                                  \n",
    "    remainder = len(indices) % batch_size                                                                                                                                                                  \n",
    "    num_batches = num_batches - 1 if remainder > 0 else num_batches         \n",
    "    print(remainder)\n",
    "                                                                                                                                                                                                           \n",
    "    if remainder > 0:                                                                                                                                                                                      \n",
    "        remainder_indices = []                                                                                                                                                                             \n",
    "        remainder_labels = []                                                                                                                                                                              \n",
    "        rs = np.random.RandomState(random_state)                                                                                                                                                                      \n",
    "        last_idx = rs.choice(indices, size=remainder, replace=False)                                                                                                                                       \n",
    "        for idx in indices:                                                                                                                                                                                \n",
    "            if idx not in last_idx:                                                                                                                                                                        \n",
    "                remainder_indices.append(idx)                                                                                                                                                              \n",
    "                remainder_labels.append(labels[idx])                                                                                                                                                       \n",
    "    else:                                                                                                                                                                                                  \n",
    "        remainder_indices = indices                                                                                                                                                                        \n",
    "        remainder_labels = labels                                                                                                                                                                          \n",
    "        last_idx = []                                                                                                                                                                                      \n",
    "                                                                                                                                                                                                           \n",
    "    skf = StratifiedKFold(n_splits=num_batches,                                                                                                                                                            \n",
    "                          shuffle=True,                                                                                                                                                                    \n",
    "                          random_state=random_state)\n",
    "                                                                                                                                                                                             \n",
    "    for _, batch_idx in skf.split(remainder_indices, remainder_labels):\n",
    "        strat_indices.append([remainder_indices[idx] for idx in batch_idx])\n",
    "#         strat_indices.extend([remainder_indices[idx] for idx in batch_idx])\n",
    "\n",
    "    strat_indices = [strat_indices[i] for i in np.random.choice(range(len(strat_indices)), len(strat_indices))]\n",
    "    if not drop_last:                                                                                                                                                                                      \n",
    "        strat_indices.append(last_idx)                                                                                                                                                                     \n",
    "\n",
    "    return [i for indices in strat_indices for i in indices]\n",
    "\n",
    "# def stratify_batches(indices,\n",
    "#                      labels,\n",
    "#                      batch_size,\n",
    "#                      drop_last=False,\n",
    "#                      random_state=None):\n",
    "#     \"\"\"Returns a list of indices stratified by `labels` where each stratification is\n",
    "#     of size `bathc_size`\n",
    "#     \"\"\"\n",
    "#     strat_indices = []\n",
    "\n",
    "#     num_batches = int(np.ceil(len(indices) / batch_size))\n",
    "#     remainder = len(indices) % batch_size\n",
    "#     num_batches = num_batches - 1 if remainder > 0 else num_batches\n",
    "\n",
    "#     if remainder > 0:\n",
    "#         remainder_indices = []\n",
    "#         remainder_labels = []\n",
    "#         rs = np.random.RandomState(random_state)\n",
    "#         last_idx = rs.choice(indices, size=remainder, replace=False)\n",
    "#         for idx in indices:\n",
    "#             if idx not in last_idx:\n",
    "#                 remainder_indices.append(idx)\n",
    "#                 remainder_labels.append(labels[idx])\n",
    "#     else:\n",
    "#         remainder_indices = indices\n",
    "#         remainder_labels = labels\n",
    "#         last_idx = []\n",
    "\n",
    "#     skf = StratifiedKFold(n_splits=num_batches,\n",
    "#                           shuffle=True,\n",
    "#                           random_state=random_state)\n",
    "\n",
    "#     for _, batch_idx in skf.split(remainder_indices, remainder_labels):\n",
    "#         strat_indices.extend([remainder_indices[idx] for idx in batch_idx])\n",
    "\n",
    "#     if not drop_last:\n",
    "#         strat_indices.extend(last_idx)\n",
    "\n",
    "#     return strat_indices"
   ]
  },
  {
   "cell_type": "code",
   "execution_count": 34,
   "metadata": {},
   "outputs": [
    {
     "name": "stdout",
     "output_type": "stream",
     "text": [
      "48\n"
     ]
    }
   ],
   "source": [
    "batch_size =64\n",
    "batches = stratify_batches(range(len(ds)), ds.get_labels(), batch_size=batch_size)"
   ]
  },
  {
   "cell_type": "code",
   "execution_count": 32,
   "metadata": {},
   "outputs": [
    {
     "data": {
      "text/plain": [
       "[[187,\n",
       "  992,\n",
       "  1766,\n",
       "  2131,\n",
       "  2406,\n",
       "  4081,\n",
       "  4753,\n",
       "  9997,\n",
       "  11299,\n",
       "  11425,\n",
       "  13784,\n",
       "  14368,\n",
       "  15665,\n",
       "  17128,\n",
       "  17309,\n",
       "  17771,\n",
       "  18430,\n",
       "  19905,\n",
       "  20539,\n",
       "  21113,\n",
       "  21815,\n",
       "  21820,\n",
       "  22669,\n",
       "  22837,\n",
       "  23175,\n",
       "  24304,\n",
       "  24921,\n",
       "  25092,\n",
       "  26076,\n",
       "  26926,\n",
       "  27465,\n",
       "  27809,\n",
       "  28557,\n",
       "  31521,\n",
       "  32280,\n",
       "  33913,\n",
       "  34017,\n",
       "  34354,\n",
       "  35312,\n",
       "  36617,\n",
       "  39491,\n",
       "  39713,\n",
       "  39958,\n",
       "  40479,\n",
       "  41124,\n",
       "  41580,\n",
       "  41835,\n",
       "  43789,\n",
       "  45338,\n",
       "  45478,\n",
       "  45982,\n",
       "  46670,\n",
       "  47245,\n",
       "  48014,\n",
       "  49414,\n",
       "  50147,\n",
       "  50746,\n",
       "  51424,\n",
       "  52726,\n",
       "  53105,\n",
       "  53796,\n",
       "  54647,\n",
       "  56085,\n",
       "  56668],\n",
       " [928,\n",
       "  2074,\n",
       "  5231,\n",
       "  6436,\n",
       "  7314,\n",
       "  8816,\n",
       "  8956,\n",
       "  12020,\n",
       "  12562,\n",
       "  14135,\n",
       "  14776,\n",
       "  16984,\n",
       "  17577,\n",
       "  17943,\n",
       "  20319,\n",
       "  20491,\n",
       "  22145,\n",
       "  23967,\n",
       "  24148,\n",
       "  24339,\n",
       "  25211,\n",
       "  25999,\n",
       "  26363,\n",
       "  28271,\n",
       "  28991,\n",
       "  29359,\n",
       "  29473,\n",
       "  30112,\n",
       "  31464,\n",
       "  33644,\n",
       "  34406,\n",
       "  34411,\n",
       "  35126,\n",
       "  35861,\n",
       "  38222,\n",
       "  38508,\n",
       "  38858,\n",
       "  39194,\n",
       "  40194,\n",
       "  40720,\n",
       "  40881,\n",
       "  40968,\n",
       "  41257,\n",
       "  41745,\n",
       "  41823,\n",
       "  41844,\n",
       "  43085,\n",
       "  44791,\n",
       "  44964,\n",
       "  46810,\n",
       "  47334,\n",
       "  47689,\n",
       "  47741,\n",
       "  49101,\n",
       "  52334,\n",
       "  52831,\n",
       "  53020,\n",
       "  53314,\n",
       "  53905,\n",
       "  54523,\n",
       "  54740,\n",
       "  56144,\n",
       "  57048,\n",
       "  57119],\n",
       " [379,\n",
       "  1323,\n",
       "  1564,\n",
       "  2485,\n",
       "  2704,\n",
       "  2902,\n",
       "  3264,\n",
       "  3302,\n",
       "  4482,\n",
       "  6954,\n",
       "  8224,\n",
       "  9390,\n",
       "  10721,\n",
       "  11147,\n",
       "  11550,\n",
       "  12728,\n",
       "  13013,\n",
       "  13814,\n",
       "  15517,\n",
       "  15519,\n",
       "  16150,\n",
       "  16364,\n",
       "  17440,\n",
       "  17484,\n",
       "  17895,\n",
       "  19339,\n",
       "  19501,\n",
       "  21201,\n",
       "  22417,\n",
       "  24055,\n",
       "  24324,\n",
       "  25926,\n",
       "  27993,\n",
       "  28181,\n",
       "  28264,\n",
       "  29640,\n",
       "  30760,\n",
       "  30906,\n",
       "  31084,\n",
       "  33493,\n",
       "  34194,\n",
       "  34849,\n",
       "  35080,\n",
       "  35295,\n",
       "  35717,\n",
       "  37088,\n",
       "  37397,\n",
       "  40438,\n",
       "  40724,\n",
       "  41671,\n",
       "  41889,\n",
       "  43007,\n",
       "  44075,\n",
       "  46214,\n",
       "  48820,\n",
       "  50343,\n",
       "  52609,\n",
       "  53637,\n",
       "  55828,\n",
       "  55954,\n",
       "  56686,\n",
       "  57275,\n",
       "  57872,\n",
       "  58011]]"
      ]
     },
     "execution_count": 32,
     "metadata": {},
     "output_type": "execute_result"
    }
   ],
   "source": [
    "batches[:3]"
   ]
  },
  {
   "cell_type": "code",
   "execution_count": 24,
   "metadata": {},
   "outputs": [],
   "source": [
    "batch_indices = []\n",
    "targets = []\n",
    "for i in range(len(batches) // batch_size):\n",
    "    batch_indices.append(batches[i*batch_size:(i+1)*batch_size])\n",
    "    batch_targets = []\n",
    "    for idx in batch_indices[i]:\n",
    "        batch_targets.append(ds[idx])\n",
    "    targets.append(batch_targets)\n",
    "    \n",
    "props = [sum(targets[i])/len(targets[i]) for i in range(len(targets))]"
   ]
  },
  {
   "cell_type": "code",
   "execution_count": 27,
   "metadata": {},
   "outputs": [
    {
     "data": {
      "text/plain": [
       "[<matplotlib.lines.Line2D at 0x7f3dfeb12630>]"
      ]
     },
     "execution_count": 27,
     "metadata": {},
     "output_type": "execute_result"
    },
    {
     "data": {
      "image/png": "[encoded data removed]",
      "text/plain": [
       "<Figure size 432x288 with 1 Axes>"
      ]
     },
     "metadata": {
      "needs_background": "dark"
     },
     "output_type": "display_data"
    }
   ],
   "source": [
    "plt.plot(range(len(props)), props)"
   ]
  },
  {
   "cell_type": "code",
   "execution_count": null,
   "metadata": {},
   "outputs": [],
   "source": []
  },
  {
   "cell_type": "code",
   "execution_count": 19,
   "metadata": {},
   "outputs": [
    {
     "data": {
      "text/plain": [
       "(array([334.,   0.,   0.,   0.,   0.,   0.,   0.,   0.,   0., 572.]),\n",
       " array([0.078125 , 0.0796875, 0.08125  , 0.0828125, 0.084375 , 0.0859375,\n",
       "        0.0875   , 0.0890625, 0.090625 , 0.0921875, 0.09375  ]),\n",
       " <BarContainer object of 10 artists>)"
      ]
     },
     "execution_count": 19,
     "metadata": {},
     "output_type": "execute_result"
    },
    {
     "data": {
      "image/png": "[encoded data removed]",
      "text/plain": [
       "<Figure size 432x288 with 1 Axes>"
      ]
     },
     "metadata": {
      "needs_background": "dark"
     },
     "output_type": "display_data"
    }
   ],
   "source": [
    "plt.hist(props)"
   ]
  },
  {
   "cell_type": "code",
   "execution_count": 44,
   "metadata": {},
   "outputs": [],
   "source": [
    "class BatchStratifiedSampler(Sampler):                                                                                                                                        \n",
    "    \"\"\"Stratified batch sampler.\"\"\"                                                                                                                                           \n",
    "    def __init__(self,                                                                                                                                                        \n",
    "                 data_source,                                                                                                                                                 \n",
    "                 indices,                                                                                                                                                     \n",
    "                 labels,                                                                                                                                                      \n",
    "                 batch_size,                                                                                                                                                  \n",
    "                 drop_last=False,                                                                                                                                             \n",
    "                 random_state=None):                                                                                                                                          \n",
    "        self.data_source = data_source                                                                                                                                        \n",
    "        self.indices = indices                                                                                                                                                \n",
    "        self.labels = labels                                                                                                                                                  \n",
    "        self.batch_size = batch_size                                                                                                                                          \n",
    "        self.drop_last = drop_last                                                                                                                                            \n",
    "        self.random_state = random_state                                                                                                                                      \n",
    "                                                                                                                                                                              \n",
    "    def __len__(self):                                                                                                                                                        \n",
    "        return len(self.indices)                                                                                                                                              \n",
    "                                                                                                                                                                              \n",
    "    def __iter__(self):                                                                                                                                                       \n",
    "        indices = stratify_batches(                                                                                                                                \n",
    "            self.indices,                                                                                                                                                     \n",
    "            self.labels,                                                                                                                                                      \n",
    "            self.batch_size,                                                                                                                                                  \n",
    "            drop_last=self.drop_last,                                                                                                                                         \n",
    "            random_state=self.random_state                                                                                                                              \n",
    "        )                                                                                                                                                                     \n",
    "        return iter(indices) \n",
    "\n",
    "# class BatchStratifiedSampler(Sampler):\n",
    "#     \"\"\"Stratified batch sampler.\"\"\"\n",
    "#     def __init__(self,\n",
    "#                  data_source,\n",
    "#                  indices,\n",
    "#                  labels,\n",
    "#                  batch_size,\n",
    "#                  drop_last=False,\n",
    "#                  random_state=None):\n",
    "#         self.data_source = data_source\n",
    "#         self.indices = indices\n",
    "#         self.labels = labels\n",
    "#         self.batch_size = batch_size\n",
    "#         self.drop_last = drop_last\n",
    "#         self.random_state = random_state\n",
    "\n",
    "#     def __len__(self):\n",
    "#         return len(self.indices)\n",
    "\n",
    "#     def __iter__(self):\n",
    "#         indices = stratify_batches(\n",
    "#             self.indices,\n",
    "#             self.labels,\n",
    "#             self.batch_size,\n",
    "#             drop_last=self.drop_last,\n",
    "#             random_state=self.random_state\n",
    "#         )\n",
    "#         return iter(indices)"
   ]
  },
  {
   "cell_type": "code",
   "execution_count": 40,
   "metadata": {},
   "outputs": [],
   "source": [
    "from torch.utils.data import RandomSampler, SubsetRandomSampler"
   ]
  },
  {
   "cell_type": "code",
   "execution_count": 43,
   "metadata": {},
   "outputs": [
    {
     "name": "stdout",
     "output_type": "stream",
     "text": [
      "48\n",
      "mean   : 0.0880\n",
      "std    : 0.0075\n",
      "median : 0.0938\n"
     ]
    }
   ],
   "source": [
    "sampler = BatchStratifiedSampler(ds, range(len(ds)), labels=ds.get_labels(), batch_size=batch_size)\n",
    "labels = []\n",
    "for idx in sampler:\n",
    "    labels.append(sampler.data_source.df['target'].iloc[idx])\n",
    "targets = [labels[i*batch_size:(i+1)*batch_size] for i in range(len(labels) // batch_size)]\n",
    "props = [sum(targets[i])/len(targets[i]) for i in range(len(targets))]\n",
    "print(f'mean   : {np.mean(props):.4f}')\n",
    "print(f'std    : {np.std(props):.4f}')\n",
    "print(f'median : {np.median(props):.\n",
    "4f}')"
   ]
  },
  {
   "cell_type": "code",
   "execution_count": 45,
   "metadata": {},
   "outputs": [],
   "source": [
    "batch_indices = []\n",
    "for i in range(len(labels) // batch_size):\n",
    "    batch_indices.append(labels[i*batch_size:(i+1)*batch_size])\n",
    "    batch_targets = []\n",
    "    for idx in batch_indices[i]:\n",
    "        batch_targets.append(ds[idx])\n",
    "    targets.append(batch_targets)\n",
    "    \n",
    "props = [sum(targets[i])/len(targets[i]) for i in range(len(targets))]"
   ]
  },
  {
   "cell_type": "code",
   "execution_count": 49,
   "metadata": {},
   "outputs": [
    {
     "name": "stderr",
     "output_type": "stream",
     "text": [
      "\r",
      "  0%|          | 0/906 [00:00<?, ?it/s]"
     ]
    },
    {
     "name": "stdout",
     "output_type": "stream",
     "text": [
      "48\n"
     ]
    },
    {
     "name": "stderr",
     "output_type": "stream",
     "text": [
      "100%|██████████| 906/906 [00:01<00:00, 884.23it/s]\n"
     ]
    }
   ],
   "source": [
    "batch_size = 64\n",
    "ds = MelanomaDataset('../data/ISIC_2020/224x224_jpg_100_4/train/', df_train)\n",
    "sampler = BatchStratifiedSampler(ds, range(len(ds)), labels=ds.get_labels(), batch_size=batch_size)\n",
    "dl = DataLoader(ds, batch_size=batch_size, sampler=sampler, drop_last=True, num_workers=1)\n",
    "\n",
    "targets = []\n",
    "for y in tqdm(dl):\n",
    "    targets.append(y.numpy())\n",
    "    \n",
    "props = [sum(targets[i])/len(targets[i]) for i in range(len(targets))]"
   ]
  },
  {
   "cell_type": "code",
   "execution_count": 50,
   "metadata": {},
   "outputs": [
    {
     "name": "stdout",
     "output_type": "stream",
     "text": [
      "mean   : 0.0879\n",
      "std    : 0.0076\n",
      "median : 0.0938\n"
     ]
    },
    {
     "data": {
      "text/plain": [
       "(array([338.,   0.,   0.,   0.,   0.,   0.,   0.,   0.,   0., 568.]),\n",
       " array([0.078125 , 0.0796875, 0.08125  , 0.0828125, 0.084375 , 0.0859375,\n",
       "        0.0875   , 0.0890625, 0.090625 , 0.0921875, 0.09375  ]),\n",
       " <BarContainer object of 10 artists>)"
      ]
     },
     "execution_count": 50,
     "metadata": {},
     "output_type": "execute_result"
    },
    {
     "data": {
      "image/png": "[encoded data removed]",
      "text/plain": [
       "<Figure size 432x288 with 1 Axes>"
      ]
     },
     "metadata": {
      "needs_background": "dark"
     },
     "output_type": "display_data"
    }
   ],
   "source": [
    "print(f'mean   : {np.mean(props):.4f}')\n",
    "print(f'std    : {np.std(props):.4f}')\n",
    "print(f'median : {np.median(props):.4f}')\n",
    "plt.hist(props)"
   ]
  },
  {
   "cell_type": "code",
   "execution_count": 46,
   "metadata": {},
   "outputs": [
    {
     "name": "stderr",
     "output_type": "stream",
     "text": [
      "100%|██████████| 906/906 [00:00<00:00, 4262.00it/s]\n"
     ]
    }
   ],
   "source": [
    "batch_size = 64\n",
    "ds = MelanomaDataset('../data/ISIC_2020/224x224_jpg_100_4/train/', df_train)\n",
    "sampler = ImbalancedSampler(ds)\n",
    "dl = DataLoader(ds, batch_size=batch_size, sampler=sampler, drop_last=True)\n",
    "\n",
    "targets = []\n",
    "for y in tqdm(dl):\n",
    "    targets.append(y.numpy())\n",
    "    \n",
    "props = [sum(targets[i])/len(targets[i]) for i in range(len(targets))]"
   ]
  },
  {
   "cell_type": "code",
   "execution_count": 47,
   "metadata": {},
   "outputs": [
    {
     "name": "stdout",
     "output_type": "stream",
     "text": [
      "mean   : 0.4992\n",
      "std    : 0.0636\n",
      "median : 0.5000\n"
     ]
    },
    {
     "data": {
      "text/plain": [
       "(array([ 12.,  19.,  86., 130., 178., 251., 108.,  93.,  23.,   6.]),\n",
       " array([0.3125, 0.35  , 0.3875, 0.425 , 0.4625, 0.5   , 0.5375, 0.575 ,\n",
       "        0.6125, 0.65  , 0.6875]),\n",
       " <BarContainer object of 10 artists>)"
      ]
     },
     "execution_count": 47,
     "metadata": {},
     "output_type": "execute_result"
    },
    {
     "data": {
      "image/png": "[encoded data removed]",
      "text/plain": [
       "<Figure size 432x288 with 1 Axes>"
      ]
     },
     "metadata": {
      "needs_background": "dark"
     },
     "output_type": "display_data"
    }
   ],
   "source": [
    "print(f'mean   : {np.mean(props):.4f}')\n",
    "print(f'std    : {np.std(props):.4f}')\n",
    "print(f'median : {np.median(props):.4f}')\n",
    "plt.hist(props)"
   ]
  },
  {
   "cell_type": "code",
   "execution_count": 33,
   "metadata": {},
   "outputs": [],
   "source": [
    "class ImbalancedSampler(Sampler):\n",
    "\n",
    "    def __init__(self,\n",
    "                 dataset,\n",
    "                 indices=None,\n",
    "                 num_samples=None,\n",
    "                 callback_get_label=None):\n",
    "        # if indices is not provided,\n",
    "        # all elements in the dataset will be considered\n",
    "        self.indices = list(range(len(dataset))) if indices is None else indices\n",
    "\n",
    "        # define custom callback\n",
    "        self.callback_get_label = callback_get_label\n",
    "\n",
    "        # if num_samples is not provided,\n",
    "        # draw `len(indices)` samples in each iteration\n",
    "        self.num_samples = len(self.indices)if num_samples is None else num_samples\n",
    "\n",
    "        # distribution of classes in the dataset\n",
    "        label_to_count = {}\n",
    "        for idx in self.indices:\n",
    "            label = self._get_label(dataset, idx)\n",
    "            if label in label_to_count:\n",
    "                label_to_count[label] += 1\n",
    "            else:\n",
    "                label_to_count[label] = 1\n",
    "\n",
    "        # weight for each sample\n",
    "        weights = [1.0 / label_to_count[self._get_label(dataset, idx)] for idx in self.indices]\n",
    "        self.weights = torch.DoubleTensor(weights)\n",
    "\n",
    "    def _get_label(self, dataset, idx):\n",
    "        return dataset.get_labels()[idx]\n",
    "\n",
    "    def __iter__(self):\n",
    "        return (\n",
    "            self.indices[i]\n",
    "            for i\n",
    "            in torch.multinomial(self.weights, self.num_samples, replacement=True)\n",
    "        )\n",
    "\n",
    "    def __len__(self):\n",
    "        return self.num_samples"
   ]
  },
  {
   "cell_type": "code",
   "execution_count": 34,
   "metadata": {},
   "outputs": [],
   "source": [
    "sampler = ImbalancedSampler(ds)"
   ]
  },
  {
   "cell_type": "code",
   "execution_count": 40,
   "metadata": {},
   "outputs": [
    {
     "data": {
      "text/plain": [
       "0.0001959631589261219"
      ]
     },
     "execution_count": 40,
     "metadata": {},
     "output_type": "execute_result"
    }
   ],
   "source": [
    "np.unique(sampler.weights)[1]"
   ]
  },
  {
   "cell_type": "code",
   "execution_count": 41,
   "metadata": {},
   "outputs": [],
   "source": [
    "labels = ds.get_labels()"
   ]
  },
  {
   "cell_type": "code",
   "execution_count": 62,
   "metadata": {},
   "outputs": [],
   "source": [
    "num_samples = len(ds)\n",
    "labels = ds.get_labels()\n",
    "num_pos = sum(labels)\n",
    "num_neg = num_samples - num_pos\n",
    "pos_rate = num_pos / num_samples\n",
    "num_oversampled = num_neg * 2\n",
    "indices = sampler.indices\n",
    "pos_indices = [idx for idx in indices if labels[idx] == 1]\n",
    "neg_indices = [idx for idx in indices if labels[idx] == 0]"
   ]
  },
  {
   "cell_type": "code",
   "execution_count": 65,
   "metadata": {},
   "outputs": [],
   "source": [
    "sampled_pos_indices = np.random.choice(pos_indices, num_neg, replace=True)\n",
    "new_indices = np.concatenate((neg_indices, sampled_pos_indices))\n",
    "tmp = [new_indices[i] for i in np.random.choice(range(num_oversampled), num_oversampled, replace=False)]"
   ]
  },
  {
   "cell_type": "code",
   "execution_count": 67,
   "metadata": {},
   "outputs": [],
   "source": [
    "class Oversampler(Sampler):\n",
    "    \"\"\"Oversampler class to balance positive and negative samples.\"\"\"\n",
    "    def __init__(self, dataset, indices=None, labels=None):\n",
    "        self.dataset = dataset\n",
    "        self.num_samples = len(dataset)\n",
    "        self.indices = list(range(self.num_samples)) if indices is None else indices\n",
    "        self.labels = self.dataset.get_labels() if labels is None else labels\n",
    "        self._label_count = {}\n",
    "        self._label_indices = {}\n",
    "        for c in np.unique(self.labels):\n",
    "            label_indices = [i for i in self.indices if self.labels[i] == c]\n",
    "            self._label_indices[c] = label_indices\n",
    "            self._label_count[c] = len(label_indices)\n",
    "        self._num_oversampled = self._label_count[0] * 2\n",
    "        \n",
    "    def __len__(self):\n",
    "        return self._num_oversampled\n",
    "    \n",
    "    def __iter__(self):\n",
    "        sampled_pos_indices = np.random.choice(self._label_indices[1], \n",
    "                                               self._label_count[0], \n",
    "                                               replace=True)\n",
    "        indices = np.concatenate((self._label_indices[0], sampled_pos_indices))\n",
    "        return (\n",
    "            indices[i] \n",
    "            for i \n",
    "            in np.random.choice(range(len(self)), len(self), replace=False)\n",
    "        )"
   ]
  },
  {
   "cell_type": "code",
   "execution_count": 72,
   "metadata": {},
   "outputs": [
    {
     "name": "stderr",
     "output_type": "stream",
     "text": [
      "100%|██████████| 1654/1654 [00:00<00:00, 15893.12it/s]\n"
     ]
    }
   ],
   "source": [
    "batch_size = 64\n",
    "ds = MelanomaDataset('../data/ISIC_2020/224x224_jpg_100_4/train/', df_train)\n",
    "sampler = Oversampler(ds)\n",
    "dl = DataLoader(ds, batch_size=batch_size, sampler=sampler, drop_last=True)\n",
    "\n",
    "targets = []\n",
    "for y in tqdm(dl):\n",
    "    targets.append(y.numpy())\n",
    "    \n",
    "props = [sum(targets[i])/len(targets[i]) for i in range(len(targets))]"
   ]
  },
  {
   "cell_type": "code",
   "execution_count": 73,
   "metadata": {},
   "outputs": [
    {
     "name": "stdout",
     "output_type": "stream",
     "text": [
      "mean   : 0.5000\n",
      "std    : 0.0624\n",
      "median : 0.5000\n"
     ]
    },
    {
     "data": {
      "text/plain": [
       "(array([ 31.,  49., 229., 288., 315., 426., 181., 104.,  19.,  12.]),\n",
       " array([0.328125, 0.365625, 0.403125, 0.440625, 0.478125, 0.515625,\n",
       "        0.553125, 0.590625, 0.628125, 0.665625, 0.703125]),\n",
       " <BarContainer object of 10 artists>)"
      ]
     },
     "execution_count": 73,
     "metadata": {},
     "output_type": "execute_result"
    },
    {
     "data": {
      "image/png": "[encoded data removed]",
      "text/plain": [
       "<Figure size 432x288 with 1 Axes>"
      ]
     },
     "metadata": {
      "needs_background": "dark"
     },
     "output_type": "display_data"
    }
   ],
   "source": [
    "print(f'mean   : {np.mean(props):.4f}')\n",
    "print(f'std    : {np.std(props):.4f}')\n",
    "print(f'median : {np.median(props):.4f}')\n",
    "plt.hist(props)"
   ]
  },
  {
   "cell_type": "code",
   "execution_count": null,
   "metadata": {},
   "outputs": [],
   "source": []
  },
  {
   "cell_type": "code",
   "execution_count": null,
   "metadata": {},
   "outputs": [],
   "source": []
  },
  {
   "cell_type": "code",
   "execution_count": 13,
   "metadata": {},
   "outputs": [
    {
     "data": {
      "text/plain": [
       "[0, 16, 32, 48, 64, 80, 96, 112, 128, 144, 160, 176, 192]"
      ]
     },
     "execution_count": 13,
     "metadata": {},
     "output_type": "execute_result"
    }
   ],
   "source": [
    "list(range(0, 200, 16))"
   ]
  },
  {
   "cell_type": "code",
   "execution_count": null,
   "metadata": {},
   "outputs": [],
   "source": [
    "3: 32, 80, 128, 176"
   ]
  },
  {
   "cell_type": "code",
   "execution_count": 27,
   "metadata": {},
   "outputs": [],
   "source": [
    "num_replicas = 4\n",
    "batch_size = 16\n",
    "sampler = torch.utils.data.sampler.SequentialSampler(range(200))\n",
    "num_samples = len(sampler)"
   ]
  },
  {
   "cell_type": "code",
   "execution_count": 25,
   "metadata": {},
   "outputs": [
    {
     "data": {
      "text/plain": [
       "1"
      ]
     },
     "execution_count": 25,
     "metadata": {},
     "output_type": "execute_result"
    }
   ],
   "source": [
    "68//16 % num_replicas"
   ]
  },
  {
   "cell_type": "code",
   "execution_count": 28,
   "metadata": {},
   "outputs": [
    {
     "name": "stdout",
     "output_type": "stream",
     "text": [
      "0 0 0\n",
      "1 0 0\n",
      "2 0 0\n",
      "3 0 0\n",
      "4 0 0\n",
      "5 0 0\n",
      "6 0 0\n",
      "7 0 0\n",
      "8 0 0\n",
      "9 0 0\n",
      "10 0 0\n",
      "11 0 0\n",
      "12 0 0\n",
      "13 0 0\n",
      "14 0 0\n",
      "15 0 0\n",
      "16 1 1\n",
      "17 1 1\n",
      "18 1 1\n",
      "19 1 1\n",
      "20 1 1\n",
      "21 1 1\n",
      "22 1 1\n",
      "23 1 1\n",
      "24 1 1\n",
      "25 1 1\n",
      "26 1 1\n",
      "27 1 1\n",
      "28 1 1\n",
      "29 1 1\n",
      "30 1 1\n",
      "31 1 1\n",
      "32 2 2\n",
      "33 2 2\n",
      "34 2 2\n",
      "35 2 2\n",
      "36 2 2\n",
      "37 2 2\n",
      "38 2 2\n",
      "39 2 2\n",
      "40 2 2\n",
      "41 2 2\n",
      "42 2 2\n",
      "43 2 2\n",
      "44 2 2\n",
      "45 2 2\n",
      "46 2 2\n",
      "47 2 2\n",
      "48 3 3\n",
      "49 3 3\n",
      "50 3 3\n",
      "51 3 3\n",
      "52 3 3\n",
      "53 3 3\n",
      "54 3 3\n",
      "55 3 3\n",
      "56 3 3\n",
      "57 3 3\n",
      "58 3 3\n",
      "59 3 3\n",
      "60 3 3\n",
      "61 3 3\n",
      "62 3 3\n",
      "63 3 3\n",
      "64 4 0\n",
      "65 4 0\n",
      "66 4 0\n",
      "67 4 0\n",
      "68 4 0\n",
      "69 4 0\n",
      "70 4 0\n",
      "71 4 0\n",
      "72 4 0\n",
      "73 4 0\n",
      "74 4 0\n",
      "75 4 0\n",
      "76 4 0\n",
      "77 4 0\n",
      "78 4 0\n",
      "79 4 0\n",
      "80 5 1\n",
      "81 5 1\n",
      "82 5 1\n",
      "83 5 1\n",
      "84 5 1\n",
      "85 5 1\n",
      "86 5 1\n",
      "87 5 1\n",
      "88 5 1\n",
      "89 5 1\n",
      "90 5 1\n",
      "91 5 1\n",
      "92 5 1\n",
      "93 5 1\n",
      "94 5 1\n",
      "95 5 1\n",
      "96 6 2\n",
      "97 6 2\n",
      "98 6 2\n",
      "99 6 2\n",
      "100 6 2\n",
      "101 6 2\n",
      "102 6 2\n",
      "103 6 2\n",
      "104 6 2\n",
      "105 6 2\n",
      "106 6 2\n",
      "107 6 2\n",
      "108 6 2\n",
      "109 6 2\n",
      "110 6 2\n",
      "111 6 2\n",
      "112 7 3\n",
      "113 7 3\n",
      "114 7 3\n",
      "115 7 3\n",
      "116 7 3\n",
      "117 7 3\n",
      "118 7 3\n",
      "119 7 3\n",
      "120 7 3\n",
      "121 7 3\n",
      "122 7 3\n",
      "123 7 3\n",
      "124 7 3\n",
      "125 7 3\n",
      "126 7 3\n",
      "127 7 3\n",
      "128 8 0\n",
      "129 8 0\n",
      "130 8 0\n",
      "131 8 0\n",
      "132 8 0\n",
      "133 8 0\n",
      "134 8 0\n",
      "135 8 0\n",
      "136 8 0\n",
      "137 8 0\n",
      "138 8 0\n",
      "139 8 0\n",
      "140 8 0\n",
      "141 8 0\n",
      "142 8 0\n",
      "143 8 0\n",
      "144 9 1\n",
      "145 9 1\n",
      "146 9 1\n",
      "147 9 1\n",
      "148 9 1\n",
      "149 9 1\n",
      "150 9 1\n",
      "151 9 1\n",
      "152 9 1\n",
      "153 9 1\n",
      "154 9 1\n",
      "155 9 1\n",
      "156 9 1\n",
      "157 9 1\n",
      "158 9 1\n",
      "159 9 1\n",
      "160 10 2\n",
      "161 10 2\n",
      "162 10 2\n",
      "163 10 2\n",
      "164 10 2\n",
      "165 10 2\n",
      "166 10 2\n",
      "167 10 2\n",
      "168 10 2\n",
      "169 10 2\n",
      "170 10 2\n",
      "171 10 2\n",
      "172 10 2\n",
      "173 10 2\n",
      "174 10 2\n",
      "175 10 2\n",
      "176 11 3\n",
      "177 11 3\n",
      "178 11 3\n",
      "179 11 3\n",
      "180 11 3\n",
      "181 11 3\n",
      "182 11 3\n",
      "183 11 3\n",
      "184 11 3\n",
      "185 11 3\n",
      "186 11 3\n",
      "187 11 3\n",
      "188 11 3\n",
      "189 11 3\n",
      "190 11 3\n",
      "191 11 3\n",
      "192 12 0\n",
      "193 12 0\n",
      "194 12 0\n",
      "195 12 0\n",
      "196 12 0\n",
      "197 12 0\n",
      "198 12 0\n",
      "199 12 0\n"
     ]
    }
   ],
   "source": [
    "rank = 3\n",
    "for i in sampler:\n",
    "    print(i, i//batch_size, i // batch_size % num_replicas)\n"
   ]
  },
  {
   "cell_type": "code",
   "execution_count": null,
   "metadata": {},
   "outputs": [],
   "source": [
    "[e for i, e in enumerate(self.iterable) if (i - self.rank) % self.num_replicas == 0]"
   ]
  },
  {
   "cell_type": "code",
   "execution_count": null,
   "metadata": {},
   "outputs": [],
   "source": [
    "[e for i, e in enumerate(self.iterable) if (i // self.batch_size) % self.num_replicas == self.rank]"
   ]
  },
  {
   "cell_type": "code",
   "execution_count": null,
   "metadata": {},
   "outputs": [],
   "source": []
  },
  {
   "cell_type": "code",
   "execution_count": null,
   "metadata": {},
   "outputs": [],
   "source": []
  }
 ],
 "metadata": {
  "kernelspec": {
   "display_name": "Python 3",
   "language": "python",
   "name": "python3"
  },
  "language_info": {
   "codemirror_mode": {
    "name": "ipython",
    "version": 3
   },
   "file_extension": ".py",
   "mimetype": "text/x-python",
   "name": "python",
   "nbconvert_exporter": "python",
   "pygments_lexer": "ipython3",
   "version": "3.6.10"
  }
 },
 "nbformat": 4,
 "nbformat_minor": 4
}
